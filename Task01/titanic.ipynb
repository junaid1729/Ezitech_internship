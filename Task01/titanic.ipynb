{
  "cells": [
    {
      "cell_type": "code",
      "execution_count": 1,
      "id": "bf7f4752",
      "metadata": {
        "collapsed": true,
        "colab": {
          "base_uri": "https://localhost:8080/"
        },
        "id": "bf7f4752",
        "outputId": "fd71de4d-0e8b-4f2f-ef11-e815b2cb9e4b"
      },
      "outputs": [
        {
          "output_type": "stream",
          "name": "stdout",
          "text": [
            "Requirement already satisfied: seaborn in /usr/local/lib/python3.11/dist-packages (0.13.2)\n",
            "Requirement already satisfied: numpy!=1.24.0,>=1.20 in /usr/local/lib/python3.11/dist-packages (from seaborn) (2.0.2)\n",
            "Requirement already satisfied: pandas>=1.2 in /usr/local/lib/python3.11/dist-packages (from seaborn) (2.2.2)\n",
            "Requirement already satisfied: matplotlib!=3.6.1,>=3.4 in /usr/local/lib/python3.11/dist-packages (from seaborn) (3.10.0)\n",
            "Requirement already satisfied: contourpy>=1.0.1 in /usr/local/lib/python3.11/dist-packages (from matplotlib!=3.6.1,>=3.4->seaborn) (1.3.2)\n",
            "Requirement already satisfied: cycler>=0.10 in /usr/local/lib/python3.11/dist-packages (from matplotlib!=3.6.1,>=3.4->seaborn) (0.12.1)\n",
            "Requirement already satisfied: fonttools>=4.22.0 in /usr/local/lib/python3.11/dist-packages (from matplotlib!=3.6.1,>=3.4->seaborn) (4.59.0)\n",
            "Requirement already satisfied: kiwisolver>=1.3.1 in /usr/local/lib/python3.11/dist-packages (from matplotlib!=3.6.1,>=3.4->seaborn) (1.4.8)\n",
            "Requirement already satisfied: packaging>=20.0 in /usr/local/lib/python3.11/dist-packages (from matplotlib!=3.6.1,>=3.4->seaborn) (25.0)\n",
            "Requirement already satisfied: pillow>=8 in /usr/local/lib/python3.11/dist-packages (from matplotlib!=3.6.1,>=3.4->seaborn) (11.3.0)\n",
            "Requirement already satisfied: pyparsing>=2.3.1 in /usr/local/lib/python3.11/dist-packages (from matplotlib!=3.6.1,>=3.4->seaborn) (3.2.3)\n",
            "Requirement already satisfied: python-dateutil>=2.7 in /usr/local/lib/python3.11/dist-packages (from matplotlib!=3.6.1,>=3.4->seaborn) (2.9.0.post0)\n",
            "Requirement already satisfied: pytz>=2020.1 in /usr/local/lib/python3.11/dist-packages (from pandas>=1.2->seaborn) (2025.2)\n",
            "Requirement already satisfied: tzdata>=2022.7 in /usr/local/lib/python3.11/dist-packages (from pandas>=1.2->seaborn) (2025.2)\n",
            "Requirement already satisfied: six>=1.5 in /usr/local/lib/python3.11/dist-packages (from python-dateutil>=2.7->matplotlib!=3.6.1,>=3.4->seaborn) (1.17.0)\n"
          ]
        }
      ],
      "source": [
        "\n",
        "%pip install seaborn\n",
        "\n",
        "import pandas as pd\n",
        "import seaborn as sns\n",
        "import matplotlib.pyplot as plt\n"
      ]
    },
    {
      "cell_type": "markdown",
      "source": [
        "**Reading csv file for titanic dataset**"
      ],
      "metadata": {
        "id": "ihb8r7l_11w0"
      },
      "id": "ihb8r7l_11w0"
    },
    {
      "cell_type": "code",
      "execution_count": 2,
      "id": "9f8a4f53",
      "metadata": {
        "id": "9f8a4f53",
        "outputId": "9b6a3b24-3899-434d-cb3c-ae620a5c88d9",
        "colab": {
          "base_uri": "https://localhost:8080/",
          "height": 315
        }
      },
      "outputs": [
        {
          "output_type": "error",
          "ename": "FileNotFoundError",
          "evalue": "[Errno 2] No such file or directory: 'Titanic-Dataset.csv'",
          "traceback": [
            "\u001b[0;31m---------------------------------------------------------------------------\u001b[0m",
            "\u001b[0;31mFileNotFoundError\u001b[0m                         Traceback (most recent call last)",
            "\u001b[0;32m/tmp/ipython-input-2-2853818417.py\u001b[0m in \u001b[0;36m<cell line: 0>\u001b[0;34m()\u001b[0m\n\u001b[0;32m----> 1\u001b[0;31m \u001b[0mdf\u001b[0m\u001b[0;34m=\u001b[0m\u001b[0mpd\u001b[0m\u001b[0;34m.\u001b[0m\u001b[0mread_csv\u001b[0m\u001b[0;34m(\u001b[0m\u001b[0;34m'Titanic-Dataset.csv'\u001b[0m\u001b[0;34m)\u001b[0m\u001b[0;34m\u001b[0m\u001b[0;34m\u001b[0m\u001b[0m\n\u001b[0m",
            "\u001b[0;32m/usr/local/lib/python3.11/dist-packages/pandas/io/parsers/readers.py\u001b[0m in \u001b[0;36mread_csv\u001b[0;34m(filepath_or_buffer, sep, delimiter, header, names, index_col, usecols, dtype, engine, converters, true_values, false_values, skipinitialspace, skiprows, skipfooter, nrows, na_values, keep_default_na, na_filter, verbose, skip_blank_lines, parse_dates, infer_datetime_format, keep_date_col, date_parser, date_format, dayfirst, cache_dates, iterator, chunksize, compression, thousands, decimal, lineterminator, quotechar, quoting, doublequote, escapechar, comment, encoding, encoding_errors, dialect, on_bad_lines, delim_whitespace, low_memory, memory_map, float_precision, storage_options, dtype_backend)\u001b[0m\n\u001b[1;32m   1024\u001b[0m     \u001b[0mkwds\u001b[0m\u001b[0;34m.\u001b[0m\u001b[0mupdate\u001b[0m\u001b[0;34m(\u001b[0m\u001b[0mkwds_defaults\u001b[0m\u001b[0;34m)\u001b[0m\u001b[0;34m\u001b[0m\u001b[0;34m\u001b[0m\u001b[0m\n\u001b[1;32m   1025\u001b[0m \u001b[0;34m\u001b[0m\u001b[0m\n\u001b[0;32m-> 1026\u001b[0;31m     \u001b[0;32mreturn\u001b[0m \u001b[0m_read\u001b[0m\u001b[0;34m(\u001b[0m\u001b[0mfilepath_or_buffer\u001b[0m\u001b[0;34m,\u001b[0m \u001b[0mkwds\u001b[0m\u001b[0;34m)\u001b[0m\u001b[0;34m\u001b[0m\u001b[0;34m\u001b[0m\u001b[0m\n\u001b[0m\u001b[1;32m   1027\u001b[0m \u001b[0;34m\u001b[0m\u001b[0m\n\u001b[1;32m   1028\u001b[0m \u001b[0;34m\u001b[0m\u001b[0m\n",
            "\u001b[0;32m/usr/local/lib/python3.11/dist-packages/pandas/io/parsers/readers.py\u001b[0m in \u001b[0;36m_read\u001b[0;34m(filepath_or_buffer, kwds)\u001b[0m\n\u001b[1;32m    618\u001b[0m \u001b[0;34m\u001b[0m\u001b[0m\n\u001b[1;32m    619\u001b[0m     \u001b[0;31m# Create the parser.\u001b[0m\u001b[0;34m\u001b[0m\u001b[0;34m\u001b[0m\u001b[0m\n\u001b[0;32m--> 620\u001b[0;31m     \u001b[0mparser\u001b[0m \u001b[0;34m=\u001b[0m \u001b[0mTextFileReader\u001b[0m\u001b[0;34m(\u001b[0m\u001b[0mfilepath_or_buffer\u001b[0m\u001b[0;34m,\u001b[0m \u001b[0;34m**\u001b[0m\u001b[0mkwds\u001b[0m\u001b[0;34m)\u001b[0m\u001b[0;34m\u001b[0m\u001b[0;34m\u001b[0m\u001b[0m\n\u001b[0m\u001b[1;32m    621\u001b[0m \u001b[0;34m\u001b[0m\u001b[0m\n\u001b[1;32m    622\u001b[0m     \u001b[0;32mif\u001b[0m \u001b[0mchunksize\u001b[0m \u001b[0;32mor\u001b[0m \u001b[0miterator\u001b[0m\u001b[0;34m:\u001b[0m\u001b[0;34m\u001b[0m\u001b[0;34m\u001b[0m\u001b[0m\n",
            "\u001b[0;32m/usr/local/lib/python3.11/dist-packages/pandas/io/parsers/readers.py\u001b[0m in \u001b[0;36m__init__\u001b[0;34m(self, f, engine, **kwds)\u001b[0m\n\u001b[1;32m   1618\u001b[0m \u001b[0;34m\u001b[0m\u001b[0m\n\u001b[1;32m   1619\u001b[0m         \u001b[0mself\u001b[0m\u001b[0;34m.\u001b[0m\u001b[0mhandles\u001b[0m\u001b[0;34m:\u001b[0m \u001b[0mIOHandles\u001b[0m \u001b[0;34m|\u001b[0m \u001b[0;32mNone\u001b[0m \u001b[0;34m=\u001b[0m \u001b[0;32mNone\u001b[0m\u001b[0;34m\u001b[0m\u001b[0;34m\u001b[0m\u001b[0m\n\u001b[0;32m-> 1620\u001b[0;31m         \u001b[0mself\u001b[0m\u001b[0;34m.\u001b[0m\u001b[0m_engine\u001b[0m \u001b[0;34m=\u001b[0m \u001b[0mself\u001b[0m\u001b[0;34m.\u001b[0m\u001b[0m_make_engine\u001b[0m\u001b[0;34m(\u001b[0m\u001b[0mf\u001b[0m\u001b[0;34m,\u001b[0m \u001b[0mself\u001b[0m\u001b[0;34m.\u001b[0m\u001b[0mengine\u001b[0m\u001b[0;34m)\u001b[0m\u001b[0;34m\u001b[0m\u001b[0;34m\u001b[0m\u001b[0m\n\u001b[0m\u001b[1;32m   1621\u001b[0m \u001b[0;34m\u001b[0m\u001b[0m\n\u001b[1;32m   1622\u001b[0m     \u001b[0;32mdef\u001b[0m \u001b[0mclose\u001b[0m\u001b[0;34m(\u001b[0m\u001b[0mself\u001b[0m\u001b[0;34m)\u001b[0m \u001b[0;34m->\u001b[0m \u001b[0;32mNone\u001b[0m\u001b[0;34m:\u001b[0m\u001b[0;34m\u001b[0m\u001b[0;34m\u001b[0m\u001b[0m\n",
            "\u001b[0;32m/usr/local/lib/python3.11/dist-packages/pandas/io/parsers/readers.py\u001b[0m in \u001b[0;36m_make_engine\u001b[0;34m(self, f, engine)\u001b[0m\n\u001b[1;32m   1878\u001b[0m                 \u001b[0;32mif\u001b[0m \u001b[0;34m\"b\"\u001b[0m \u001b[0;32mnot\u001b[0m \u001b[0;32min\u001b[0m \u001b[0mmode\u001b[0m\u001b[0;34m:\u001b[0m\u001b[0;34m\u001b[0m\u001b[0;34m\u001b[0m\u001b[0m\n\u001b[1;32m   1879\u001b[0m                     \u001b[0mmode\u001b[0m \u001b[0;34m+=\u001b[0m \u001b[0;34m\"b\"\u001b[0m\u001b[0;34m\u001b[0m\u001b[0;34m\u001b[0m\u001b[0m\n\u001b[0;32m-> 1880\u001b[0;31m             self.handles = get_handle(\n\u001b[0m\u001b[1;32m   1881\u001b[0m                 \u001b[0mf\u001b[0m\u001b[0;34m,\u001b[0m\u001b[0;34m\u001b[0m\u001b[0;34m\u001b[0m\u001b[0m\n\u001b[1;32m   1882\u001b[0m                 \u001b[0mmode\u001b[0m\u001b[0;34m,\u001b[0m\u001b[0;34m\u001b[0m\u001b[0;34m\u001b[0m\u001b[0m\n",
            "\u001b[0;32m/usr/local/lib/python3.11/dist-packages/pandas/io/common.py\u001b[0m in \u001b[0;36mget_handle\u001b[0;34m(path_or_buf, mode, encoding, compression, memory_map, is_text, errors, storage_options)\u001b[0m\n\u001b[1;32m    871\u001b[0m         \u001b[0;32mif\u001b[0m \u001b[0mioargs\u001b[0m\u001b[0;34m.\u001b[0m\u001b[0mencoding\u001b[0m \u001b[0;32mand\u001b[0m \u001b[0;34m\"b\"\u001b[0m \u001b[0;32mnot\u001b[0m \u001b[0;32min\u001b[0m \u001b[0mioargs\u001b[0m\u001b[0;34m.\u001b[0m\u001b[0mmode\u001b[0m\u001b[0;34m:\u001b[0m\u001b[0;34m\u001b[0m\u001b[0;34m\u001b[0m\u001b[0m\n\u001b[1;32m    872\u001b[0m             \u001b[0;31m# Encoding\u001b[0m\u001b[0;34m\u001b[0m\u001b[0;34m\u001b[0m\u001b[0m\n\u001b[0;32m--> 873\u001b[0;31m             handle = open(\n\u001b[0m\u001b[1;32m    874\u001b[0m                 \u001b[0mhandle\u001b[0m\u001b[0;34m,\u001b[0m\u001b[0;34m\u001b[0m\u001b[0;34m\u001b[0m\u001b[0m\n\u001b[1;32m    875\u001b[0m                 \u001b[0mioargs\u001b[0m\u001b[0;34m.\u001b[0m\u001b[0mmode\u001b[0m\u001b[0;34m,\u001b[0m\u001b[0;34m\u001b[0m\u001b[0;34m\u001b[0m\u001b[0m\n",
            "\u001b[0;31mFileNotFoundError\u001b[0m: [Errno 2] No such file or directory: 'Titanic-Dataset.csv'"
          ]
        }
      ],
      "source": [
        "df=pd.read_csv('Titanic-Dataset.csv')"
      ]
    },
    {
      "cell_type": "markdown",
      "id": "1fde4917",
      "metadata": {
        "id": "1fde4917"
      },
      "source": [
        "**checking data type of features**\n"
      ]
    },
    {
      "cell_type": "code",
      "execution_count": null,
      "id": "8c8f7e4d",
      "metadata": {
        "id": "8c8f7e4d"
      },
      "outputs": [],
      "source": [
        "df.dtypes"
      ]
    },
    {
      "cell_type": "markdown",
      "id": "69433c9b",
      "metadata": {
        "id": "69433c9b"
      },
      "source": [
        "**viewing summary statistics**"
      ]
    },
    {
      "cell_type": "code",
      "execution_count": null,
      "id": "5177bc0a",
      "metadata": {
        "id": "5177bc0a"
      },
      "outputs": [],
      "source": [
        "df.describe()"
      ]
    },
    {
      "cell_type": "markdown",
      "id": "d8a88092",
      "metadata": {
        "id": "d8a88092"
      },
      "source": [
        "**checking stats of survived feature (survived=1 and not_survived=0 seperately)**"
      ]
    },
    {
      "cell_type": "code",
      "execution_count": null,
      "id": "740948bb",
      "metadata": {
        "id": "740948bb"
      },
      "outputs": [],
      "source": [
        "survived_0 = df[df['Survived'] == 0]\n",
        "survived_1 = df[df['Survived'] == 1]\n"
      ]
    },
    {
      "cell_type": "markdown",
      "source": [
        "**stats of people who did not survived**"
      ],
      "metadata": {
        "id": "HoBsNu5z2oJI"
      },
      "id": "HoBsNu5z2oJI"
    },
    {
      "cell_type": "code",
      "execution_count": null,
      "id": "f8ac8bf2",
      "metadata": {
        "id": "f8ac8bf2"
      },
      "outputs": [],
      "source": [
        "survived_0.describe()"
      ]
    },
    {
      "cell_type": "code",
      "execution_count": null,
      "id": "1f61f674",
      "metadata": {
        "id": "1f61f674"
      },
      "outputs": [],
      "source": [
        "survived_1.describe()"
      ]
    },
    {
      "cell_type": "markdown",
      "source": [
        "**getting number of survived vs not survived**"
      ],
      "metadata": {
        "id": "inbrFrm9DkHs"
      },
      "id": "inbrFrm9DkHs"
    },
    {
      "cell_type": "code",
      "execution_count": null,
      "id": "a81dbbb9",
      "metadata": {
        "id": "a81dbbb9"
      },
      "outputs": [],
      "source": [
        "df['Survived'].value_counts()"
      ]
    },
    {
      "cell_type": "code",
      "execution_count": null,
      "id": "80791595",
      "metadata": {
        "id": "80791595"
      },
      "outputs": [],
      "source": [
        "survived_passengers = df[df['Survived'] == 1]\n"
      ]
    },
    {
      "cell_type": "code",
      "execution_count": null,
      "id": "c0214f4f",
      "metadata": {
        "id": "c0214f4f"
      },
      "outputs": [],
      "source": [
        "survived_passengers.head()\n"
      ]
    },
    {
      "cell_type": "code",
      "execution_count": null,
      "id": "1e1ff03c",
      "metadata": {
        "id": "1e1ff03c"
      },
      "outputs": [],
      "source": [
        "survived_passengers = df[df['Survived'] == 0]"
      ]
    },
    {
      "cell_type": "code",
      "execution_count": null,
      "id": "da58f61e",
      "metadata": {
        "id": "da58f61e"
      },
      "outputs": [],
      "source": [
        "survived_passengers.head()"
      ]
    },
    {
      "cell_type": "markdown",
      "id": "fc201b31",
      "metadata": {
        "id": "fc201b31"
      },
      "source": [
        "**checking for missing values**\n"
      ]
    },
    {
      "cell_type": "code",
      "execution_count": null,
      "id": "81c689f8",
      "metadata": {
        "id": "81c689f8"
      },
      "outputs": [],
      "source": [
        "df.isnull().sum()\n"
      ]
    },
    {
      "cell_type": "markdown",
      "id": "0c82ab9f",
      "metadata": {
        "id": "0c82ab9f"
      },
      "source": [
        "**Correlation analysis to know how age is corelated with other features**"
      ]
    },
    {
      "cell_type": "code",
      "execution_count": null,
      "id": "24938dad",
      "metadata": {
        "id": "24938dad"
      },
      "outputs": [],
      "source": [
        "# Selecting numerical features for correlation with Age\n",
        "numerical_features = ['Age', 'Fare', 'Pclass', 'SibSp', 'Parch']\n",
        "\n",
        "# Dropping rows with missing Age values (to avoid skewed correlation)\n",
        "df_corr = df[numerical_features].dropna()\n",
        "\n",
        "# Computing correlation matrix\n",
        "correlation_matrix = df_corr.corr(method='pearson')\n",
        "\n",
        "# Ploting heatmap for visual analysis\n",
        "plt.figure(figsize=(8, 6))\n",
        "sns.heatmap(correlation_matrix, annot=True, cmap='coolwarm', fmt=\".2f\")\n",
        "plt.title(\" Pearson Correlation Matrix\")\n",
        "plt.show()\n"
      ]
    },
    {
      "cell_type": "markdown",
      "id": "8cbaf94a",
      "metadata": {
        "id": "8cbaf94a"
      },
      "source": [
        "**imputing age based on pearson correleation analysis result (group based imputation)**"
      ]
    },
    {
      "cell_type": "code",
      "execution_count": null,
      "id": "3a4d4b7a",
      "metadata": {
        "id": "3a4d4b7a"
      },
      "outputs": [],
      "source": [
        "# Group by Pclass, SibSp, and Parch, then impute Age\n",
        "df['Age'] = df['Age'].fillna(df.groupby(['Pclass', 'SibSp', 'Parch'])['Age'].transform('mean'))"
      ]
    },
    {
      "cell_type": "code",
      "execution_count": null,
      "id": "9b930c08",
      "metadata": {
        "id": "9b930c08"
      },
      "outputs": [],
      "source": [
        "df.isnull().sum()"
      ]
    },
    {
      "cell_type": "code",
      "execution_count": null,
      "id": "78313b75",
      "metadata": {
        "id": "78313b75"
      },
      "outputs": [],
      "source": []
    },
    {
      "cell_type": "markdown",
      "id": "4d20f65e",
      "metadata": {
        "id": "4d20f65e"
      },
      "source": [
        "**7 ages still left, so now imputing those ages as well**"
      ]
    },
    {
      "cell_type": "code",
      "execution_count": null,
      "id": "9a236ff3",
      "metadata": {
        "id": "9a236ff3"
      },
      "outputs": [],
      "source": [
        "# Display rows where Age is still missing\n",
        "missing_rows = df[df['Age'].isnull()]\n",
        "print(missing_rows[['Pclass', 'SibSp', 'Parch', 'Sex', 'Fare', 'Name']])"
      ]
    },
    {
      "cell_type": "code",
      "execution_count": null,
      "id": "fd37ac51",
      "metadata": {
        "id": "fd37ac51"
      },
      "outputs": [],
      "source": [
        "df['Age'] = df['Age'].fillna(df.groupby(['Pclass', 'Sex'])['Age'].transform('mean'))"
      ]
    },
    {
      "cell_type": "code",
      "execution_count": null,
      "id": "73dda890",
      "metadata": {
        "id": "73dda890"
      },
      "outputs": [],
      "source": [
        "df.isnull().sum()"
      ]
    },
    {
      "cell_type": "markdown",
      "id": "8974c60c",
      "metadata": {
        "id": "8974c60c"
      },
      "source": [
        "**cabin number imputation**"
      ]
    },
    {
      "cell_type": "code",
      "execution_count": null,
      "id": "64e6fa4b",
      "metadata": {
        "id": "64e6fa4b"
      },
      "outputs": [],
      "source": [
        "# Extract deck from Cabin\n",
        "df['Deck'] = df['Cabin'].str[0]\n",
        "\n",
        "# Fill missing Decks with 'U' (Unknown)\n",
        "df['Deck'] = df['Deck'].fillna('U')"
      ]
    },
    {
      "cell_type": "markdown",
      "id": "c6e4dd19",
      "metadata": {
        "id": "c6e4dd19"
      },
      "source": [
        "**Embarked imputation**"
      ]
    },
    {
      "cell_type": "code",
      "execution_count": null,
      "id": "bbeeb141",
      "metadata": {
        "id": "bbeeb141"
      },
      "outputs": [],
      "source": [
        "# Fill missing Embarked with mode\n",
        "df['Embarked'] = df['Embarked'].fillna(df['Embarked'].mode()[0])"
      ]
    },
    {
      "cell_type": "code",
      "execution_count": null,
      "id": "e3366e3a",
      "metadata": {
        "id": "e3366e3a"
      },
      "outputs": [],
      "source": [
        "# Check again after fill\n",
        "df['Cabin'] = df['Cabin'].fillna('Unknown')\n",
        "print(\"Missing Cabin values:\", df['Cabin'].isnull().sum())"
      ]
    },
    {
      "cell_type": "markdown",
      "id": "152be51c",
      "metadata": {
        "id": "152be51c"
      },
      "source": [
        "**unique values check**"
      ]
    },
    {
      "cell_type": "code",
      "execution_count": null,
      "id": "31f5db12",
      "metadata": {
        "id": "31f5db12"
      },
      "outputs": [],
      "source": [
        "# Create a summary dataframe of unique value counts\n",
        "unique_summary = pd.DataFrame({\n",
        "    'Feature': df.columns,\n",
        "    'Unique_Count': [df[col].nunique() for col in df.columns]\n",
        "}).sort_values(by='Unique_Count', ascending=False)\n",
        "\n",
        "print(unique_summary)"
      ]
    },
    {
      "cell_type": "markdown",
      "id": "d9fed59c",
      "metadata": {
        "id": "d9fed59c"
      },
      "source": [
        "**Extracting categorical labels**"
      ]
    },
    {
      "cell_type": "code",
      "execution_count": null,
      "id": "3dacd242",
      "metadata": {
        "id": "3dacd242"
      },
      "outputs": [],
      "source": [
        "categorical_cols = df.select_dtypes(include='object').columns\n",
        "print(categorical_cols)\n"
      ]
    },
    {
      "cell_type": "markdown",
      "id": "c1071086",
      "metadata": {
        "id": "c1071086"
      },
      "source": [
        "**plotting bar chart for categorical labels ( excluding those with too many unique values)**"
      ]
    },
    {
      "cell_type": "code",
      "execution_count": null,
      "id": "8e8317f4",
      "metadata": {
        "id": "8e8317f4"
      },
      "outputs": [],
      "source": [
        "import matplotlib.pyplot as plt\n",
        "import seaborn as sns"
      ]
    },
    {
      "cell_type": "code",
      "execution_count": null,
      "id": "6ba6500f",
      "metadata": {
        "id": "6ba6500f"
      },
      "outputs": [],
      "source": [
        "for col in categorical_cols:\n",
        "    if df[col].nunique() < 20:  # only plot features with < 20 categories\n",
        "        plt.figure(figsize=(6, 4))\n",
        "        sns.countplot(data=df, x=col, order=df[col].value_counts().index)\n",
        "        plt.title(f'Distribution of {col}')\n",
        "        plt.xticks(rotation=0)\n",
        "        plt.tight_layout()\n",
        "        plt.show()\n"
      ]
    },
    {
      "cell_type": "markdown",
      "id": "8e305f1f",
      "metadata": {
        "id": "8e305f1f"
      },
      "source": [
        "printing numerical features"
      ]
    },
    {
      "cell_type": "code",
      "execution_count": null,
      "id": "8e1a1434",
      "metadata": {
        "id": "8e1a1434"
      },
      "outputs": [],
      "source": [
        "numerical_cols = df.select_dtypes(include=['int64', 'float64']).columns\n",
        "print(numerical_cols)\n"
      ]
    },
    {
      "cell_type": "markdown",
      "source": [
        "**Barplots of survival rate by class**"
      ],
      "metadata": {
        "id": "OT81tCiDMJL8"
      },
      "id": "OT81tCiDMJL8"
    },
    {
      "cell_type": "code",
      "source": [
        "import seaborn as sns\n",
        "import matplotlib.pyplot as plt\n",
        "\n",
        "# Calculating survival rate per class\n",
        "sns.barplot(data=df, x='Pclass', y='Survived')\n",
        "plt.title(\"Survival Rate by Passenger Class\")\n",
        "plt.ylabel(\"Survival Rate\")\n",
        "plt.xlabel(\"Passenger Class\")\n",
        "plt.show()"
      ],
      "metadata": {
        "id": "cROuJr8bMNUg"
      },
      "id": "cROuJr8bMNUg",
      "execution_count": null,
      "outputs": []
    },
    {
      "cell_type": "markdown",
      "source": [
        "**Bar plot of count of survivors per class**"
      ],
      "metadata": {
        "id": "5MZ_PxJmM0K7"
      },
      "id": "5MZ_PxJmM0K7"
    },
    {
      "cell_type": "code",
      "source": [
        "sns.countplot(data=df, x='Pclass', hue='Survived')\n",
        "plt.title(\"Survivor Count by Class\")\n",
        "plt.xlabel(\"Passenger Class\")\n",
        "plt.ylabel(\"Passenger Count\")\n",
        "plt.legend(title=\"Survived\", labels=[\"No\", \"Yes\"])\n",
        "plt.show()"
      ],
      "metadata": {
        "id": "28sX76mMM8Kb"
      },
      "id": "28sX76mMM8Kb",
      "execution_count": null,
      "outputs": []
    },
    {
      "cell_type": "markdown",
      "source": [
        "***Insights from the graph***\n",
        "\n",
        "\n",
        "*   Clearly shows socio-economic disparity, survival was more dependent on the ticket class which directly represents socio economic background\n",
        "\n",
        "\n",
        "\n"
      ],
      "metadata": {
        "id": "8wkPzx-mAlUO"
      },
      "id": "8wkPzx-mAlUO"
    },
    {
      "cell_type": "code",
      "source": [
        "#scatter plots for numerical features\n",
        "sns.scatterplot(data=df, x='Age', y='Fare', hue='Survived')\n",
        "plt.title(\"Age vs Fare (colored by Survival)\")\n",
        "plt.show()"
      ],
      "metadata": {
        "id": "j8_LrYbLNlfR"
      },
      "id": "j8_LrYbLNlfR",
      "execution_count": null,
      "outputs": []
    },
    {
      "cell_type": "markdown",
      "source": [
        "***Insights from the graph***\n",
        "\n",
        "*   The wealthest individuals on titanic were around 35 y/o of age\n",
        "*   This graph helps us in identify fare related outlier\n",
        "*   More fare = better survival\n",
        "\n",
        "\n",
        "\n",
        "\n"
      ],
      "metadata": {
        "id": "rKKcOm-TB9Sd"
      },
      "id": "rKKcOm-TB9Sd"
    },
    {
      "cell_type": "code",
      "source": [
        "sns.scatterplot(data=df, x='Age', y='Pclass', hue='Survived')\n",
        "plt.title(\"Age vs Pclass (colored by Survival)\")\n",
        "plt.show()"
      ],
      "metadata": {
        "id": "eYbVSQUOPDRg"
      },
      "id": "eYbVSQUOPDRg",
      "execution_count": null,
      "outputs": []
    },
    {
      "cell_type": "markdown",
      "source": [
        "***Insights from the graph***\n",
        "\n",
        "*    Most of the first class passengers who survived were between 20-55 years\n",
        "of age\n",
        "*   Most kids were from 2nd and 3rd class\n",
        "*   Elder passenegers (age >60) had least survival rates across each class\n",
        "\n",
        "\n",
        "\n",
        "\n",
        "\n",
        "\n",
        "\n",
        "\n"
      ],
      "metadata": {
        "id": "aK2bmCyPDuxY"
      },
      "id": "aK2bmCyPDuxY"
    },
    {
      "cell_type": "code",
      "source": [
        "sns.scatterplot(data=df, x='SibSp', y='Parch', hue='Survived')\n",
        "plt.title(\"Siblings/Spouses vs Parents/Children (colored by Survival)\")\n",
        "plt.show()"
      ],
      "metadata": {
        "id": "1-Dt80OoReMW"
      },
      "id": "1-Dt80OoReMW",
      "execution_count": null,
      "outputs": []
    },
    {
      "cell_type": "markdown",
      "source": [
        "***Insights from the graph***\n",
        "\n",
        "\n",
        "*   Helps in identify outlier in parent/children (parchar) feature and sibling/spouse (sb/sp) feature\n",
        "*   Passengers with bigger family sizes did not survived\n",
        "\n"
      ],
      "metadata": {
        "id": "9Ko7HlZMFelL"
      },
      "id": "9Ko7HlZMFelL"
    },
    {
      "cell_type": "code",
      "source": [
        "sns.scatterplot(data=df, x='Fare', y='Pclass', hue='Survived')\n",
        "plt.title(\"Fare vs Pclass (colored by Survival)\")\n",
        "plt.show()"
      ],
      "metadata": {
        "id": "ZcpKz3ZbSwnM"
      },
      "id": "ZcpKz3ZbSwnM",
      "execution_count": null,
      "outputs": []
    },
    {
      "cell_type": "code",
      "source": [
        "sns.stripplot(data=df, x='Survived', y='Age', jitter=True)\n",
        "plt.title(\"Age vs Survival\")\n",
        "plt.show()"
      ],
      "metadata": {
        "id": "wC7wwcTwTBbW"
      },
      "id": "wC7wwcTwTBbW",
      "execution_count": null,
      "outputs": []
    },
    {
      "cell_type": "markdown",
      "id": "3543e3db",
      "metadata": {
        "id": "3543e3db"
      },
      "source": [
        "**Histograms for numerical featured columns**"
      ]
    },
    {
      "cell_type": "code",
      "execution_count": null,
      "id": "398af1eb",
      "metadata": {
        "id": "398af1eb"
      },
      "outputs": [],
      "source": [
        "import seaborn as sns\n",
        "\n",
        "for col in numerical_cols:\n",
        "    plt.figure(figsize=(6, 4))\n",
        "    sns.histplot(df[col], bins=30, kde=True)\n",
        "    plt.title(f'Distribution of {col}')\n",
        "    plt.xlabel(col)\n",
        "    plt.ylabel('Count')\n",
        "    plt.tight_layout()\n",
        "    plt.show()\n"
      ]
    },
    {
      "cell_type": "markdown",
      "id": "5cb48f13",
      "metadata": {
        "id": "5cb48f13"
      },
      "source": [
        "**correlation heat map**"
      ]
    },
    {
      "cell_type": "code",
      "execution_count": null,
      "id": "9fa6928d",
      "metadata": {
        "id": "9fa6928d"
      },
      "outputs": [],
      "source": [
        "# Selecting only numerical features\n",
        "numerical_df = df.select_dtypes(include=['int64', 'float64'])\n",
        "\n",
        "# Compute correlation matrix\n",
        "corr_matrix = numerical_df.corr()\n"
      ]
    },
    {
      "cell_type": "code",
      "execution_count": null,
      "id": "fa3fe483",
      "metadata": {
        "id": "fa3fe483"
      },
      "outputs": [],
      "source": [
        "plt.figure(figsize=(10, 6))\n",
        "sns.heatmap(corr_matrix, annot=True, fmt=\".2f\", cmap='coolwarm', square=True, linewidths=0.5)\n",
        "plt.title('Correlation Heatmap of Numerical Features')\n",
        "plt.show()\n"
      ]
    }
  ],
  "metadata": {
    "kernelspec": {
      "display_name": "Python 3",
      "language": "python",
      "name": "python3"
    },
    "language_info": {
      "codemirror_mode": {
        "name": "ipython",
        "version": 3
      },
      "file_extension": ".py",
      "mimetype": "text/x-python",
      "name": "python",
      "nbconvert_exporter": "python",
      "pygments_lexer": "ipython3",
      "version": "3.10.18"
    },
    "colab": {
      "provenance": []
    }
  },
  "nbformat": 4,
  "nbformat_minor": 5
}