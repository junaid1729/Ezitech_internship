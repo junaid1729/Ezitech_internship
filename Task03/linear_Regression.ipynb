{
 "cells": [
  {
   "cell_type": "code",
   "execution_count": null,
   "id": "4eb5f9df",
   "metadata": {},
   "outputs": [],
   "source": [
    "# Name: Muhammad Junaid Iftikhar\n",
    "# Roll Number: Ezi-ML-B1-161\n",
    "# Shift Time: 3:00 PM - 6:00 PM\n",
    "# Internship Type: hybird\n",
    "\n",
    "# TASK 03 Regression Analysis\n",
    "\n",
    "# DATASET USED: Titanic data set link : https://www.kaggle.com/datasets/yasserh/titanic-dataset"
   ]
  }
 ],
 "metadata": {
  "language_info": {
   "name": "python"
  }
 },
 "nbformat": 4,
 "nbformat_minor": 5
}
