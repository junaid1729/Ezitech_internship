{
  "nbformat": 4,
  "nbformat_minor": 0,
  "metadata": {
    "colab": {
      "provenance": [],
      "authorship_tag": "ABX9TyNuD9pC7+WFwW1Cn7jWFBKD",
      "include_colab_link": true
    },
    "kernelspec": {
      "name": "python3",
      "display_name": "Python 3"
    },
    "language_info": {
      "name": "python"
    }
  },
  "cells": [
    {
      "cell_type": "markdown",
      "metadata": {
        "id": "view-in-github",
        "colab_type": "text"
      },
      "source": [
        "<a href=\"https://colab.research.google.com/github/junaid1729/Ezitech_internship/blob/main/Task04/titanic_survival_prediction.ipynb\" target=\"_parent\"><img src=\"https://colab.research.google.com/assets/colab-badge.svg\" alt=\"Open In Colab\"/></a>"
      ]
    },
    {
      "cell_type": "code",
      "execution_count": null,
      "metadata": {
        "id": "HFyLeRVE4pVe"
      },
      "outputs": [],
      "source": [
        "# Name: Muhammad Junaid Iftikhar\n",
        "# Roll Number: Ezi-ML-B1-161\n",
        "# Shift Time: 3:00 PM - 6:00 PM\n",
        "# Internship Type: hybird\n",
        "\n",
        "# TASK 03 Regression Analysis\n",
        "\n",
        "# DATASET USED: Titanic data set link : https://www.kaggle.com/datasets/yasserh/titanic-dataset"
      ]
    },
    {
      "cell_type": "markdown",
      "source": [
        "**Importing all dependecies for the project**"
      ],
      "metadata": {
        "id": "ztri08AQ7Yfj"
      }
    },
    {
      "cell_type": "code",
      "source": [
        "import pandas as pd\n",
        "import numpy as np\n",
        "import matplotlib.pyplot as plt\n",
        "import seaborn as sns\n",
        "\n",
        "from sklearn.preprocessing import StandardScaler\n",
        "from sklearn.model_selection import train_test_split, GridSearchCV,StratifiedKFold,cross_val_score\n",
        "from sklearn.linear_model import LogisticRegression\n",
        "from sklearn.tree import DecisionTreeClassifier\n",
        "from sklearn.metrics import (\n",
        "    confusion_matrix,roc_curve,roc_auc_score,precision_recall_curve,average_precision_score\n",
        ")\n",
        "import warnings\n",
        "warnings.filterwarnings('ignore')\n"
      ],
      "metadata": {
        "id": "FK_NDKEr7cWB"
      },
      "execution_count": null,
      "outputs": []
    },
    {
      "cell_type": "markdown",
      "source": [
        "**Metrics computation helper**"
      ],
      "metadata": {
        "id": "wKLkM7R28QIl"
      }
    },
    {
      "cell_type": "code",
      "source": [
        "def compute_metrics_from_confusion_matrix(cm):\n",
        "    TN,FP,FN,TP = cm.ravel()\n",
        "    accuracy = (TP+TN)/(TP+TN+FP+FN)\n",
        "    precision = TP/(TP+FP)\n",
        "    recall = TP/(TP+FN)\n",
        "    f1_score = 2*precision*recall/(precision+recall) if (precision+recall)>0 else 0.0\n",
        "    specificity = TN/(TN+FP) if (TN+FP)>0 else 0.0\n",
        "    npv = TN/(TN+FN) if (TN+FN)>0 else 0.0\n",
        "    fnr = FN/(TP+FN) if (TP+FN)>0 else 0.0\n",
        "    fpr = FP/(TN+FP) if (TN+FP)>0 else 0.0\n",
        "\n",
        "    return {\n",
        "          \"accuracy \" : accuracy,\n",
        "          \"recall (sensitivity)\" : recall,\n",
        "          \"precision \": precision,\n",
        "          \"f1 score \" :f1_score,\n",
        "          \"specificity\": specificity,\n",
        "          \"negative prediction rate\": npv,\n",
        "          \"False negative rate\": npv,\n",
        "          \"False positive rate\": npv,\n",
        "          \"True Positive\": TP,\n",
        "          \"True Negative\": TN,\n",
        "          \"False Positive\": FP,\n",
        "          \"False Negative\": FN,\n",
        "    }\n"
      ],
      "metadata": {
        "id": "3G_VkArg8T2o"
      },
      "execution_count": null,
      "outputs": []
    },
    {
      "cell_type": "markdown",
      "source": [
        "**Reading csv file**"
      ],
      "metadata": {
        "id": "x2gshhss-x4e"
      }
    },
    {
      "cell_type": "code",
      "source": [
        "df = pd.read_csv(\"Titanic-Dataset - Copy.csv\")"
      ],
      "metadata": {
        "id": "M0dJwe6o-lgf"
      },
      "execution_count": null,
      "outputs": []
    },
    {
      "cell_type": "markdown",
      "source": [
        "**Dropping redundant/ high cardinality and duplicate and raw scaled features**"
      ],
      "metadata": {
        "id": "XICrpLWR-6b6"
      }
    },
    {
      "cell_type": "code",
      "source": [
        "to_drop = [\n",
        "    'PassengerId','Name','Ticket','Cabin','PassengerId_LE','Name_LE','Ticket_LE','Cabin_LE',\n",
        "    'Age_scaled','Fare_scaled','SibSp_scaled','Parch_scaled'\n",
        "]\n",
        "\n",
        "df.drop(columns=to_drop,inplace=True) # changing in orignal data frame\n"
      ],
      "metadata": {
        "id": "jIArOd2h_Wlq"
      },
      "execution_count": null,
      "outputs": []
    },
    {
      "cell_type": "markdown",
      "source": [
        "**Feature Engineering**"
      ],
      "metadata": {
        "id": "Tfz5FaWFA5rH"
      }
    },
    {
      "cell_type": "code",
      "source": [
        "df['IsAlone'] = (df['FamilySize']==1).astype(int)\n",
        "df['AgeGroup']=pd.cut(df['Age'], bins=[0,12,18,60,100],\n",
        "                       labels= ['Child','Teen','Adult','Senior'])\n",
        "df['FareGroup']= pd.qcut(df['Fare'], q=4, labels=['Low','Medium','High','VeryHigh'])\n",
        "df['IsMale']= (df['Sex']=='male').astype(int)\n",
        "\n"
      ],
      "metadata": {
        "id": "8MOERsnuA4h3"
      },
      "execution_count": null,
      "outputs": []
    },
    {
      "cell_type": "markdown",
      "source": [
        "**Categorical Encoding**"
      ],
      "metadata": {
        "id": "0GuLk_KSB8Ur"
      }
    },
    {
      "cell_type": "code",
      "source": [
        "title_counts = df['Title'].value_counts()\n",
        "rare_titles = title_counts[title_counts < 10].index\n",
        "df['Title'] = df['Title'].apply(lambda x: 'Rare' if x in rare_titles else x)\n",
        "cat_cols = ['Deck','Embarked','Title','AgeGroup','FareGroup']\n",
        "df_encoded = pd.get_dummies(df[cat_cols],drop_first=True)"
      ],
      "metadata": {
        "id": "mQ3N_b76B-_S"
      },
      "execution_count": null,
      "outputs": []
    },
    {
      "cell_type": "markdown",
      "source": [
        "**Numerical Features**"
      ],
      "metadata": {
        "id": "Z6XB4FZLCm_B"
      }
    },
    {
      "cell_type": "code",
      "source": [
        "num_cols = ['Age','Fare']\n",
        "scaler = StandardScaler()\n",
        "scaled_features = scaler.fit_transform(df[num_cols])\n",
        "df_scaled = pd.DataFrame(scaled_features, columns=[f\"{col}_scaled\" for col in num_cols])"
      ],
      "metadata": {
        "id": "D4SALw1NCswR"
      },
      "execution_count": null,
      "outputs": []
    },
    {
      "cell_type": "markdown",
      "source": [
        "**Combining Features**"
      ],
      "metadata": {
        "id": "lCTzjPpgDI0o"
      }
    },
    {
      "cell_type": "code",
      "source": [
        "final_features = pd.concat([\n",
        "    df[['Pclass','IsMale','FamilySize','IsAlone','Survived']],\n",
        "    df_encoded,\n",
        "    df_scaled\n",
        "],axis=1)"
      ],
      "metadata": {
        "id": "_CxVQwJdDLeS"
      },
      "execution_count": null,
      "outputs": []
    },
    {
      "cell_type": "markdown",
      "source": [
        "**Tran test split**"
      ],
      "metadata": {
        "id": "_KjS-aEqDhiT"
      }
    },
    {
      "cell_type": "code",
      "source": [
        "X = final_features.drop('Survived',axis=1)\n",
        "Y = final_features['Survived']\n",
        "X_train,X_test,Y_train,Y_test = train_test_split(X,Y,test_size=0.2,random_state=42,stratify=Y)\n",
        "\n",
        "print(\"final shape: \",X_train.shape,X_test.shape)"
      ],
      "metadata": {
        "colab": {
          "base_uri": "https://localhost:8080/"
        },
        "id": "HUEfcf2KDkDE",
        "outputId": "52847b4a-2b91-4621-8aa9-a8912f28d475"
      },
      "execution_count": null,
      "outputs": [
        {
          "output_type": "stream",
          "name": "stdout",
          "text": [
            "final shape:  (712, 26) (179, 26)\n"
          ]
        }
      ]
    },
    {
      "cell_type": "markdown",
      "source": [
        "**Baseline models ( no tuning)**"
      ],
      "metadata": {
        "id": "941AUPcREW8b"
      }
    },
    {
      "cell_type": "code",
      "source": [
        "# Logistic Regression baseline\n",
        "lr_base = LogisticRegression(solver='liblinear',random_state=42)\n",
        "lr_base.fit(X_train,Y_train)\n",
        "\n",
        "\n",
        "# Decision Tree baseline\n",
        "dt_base = DecisionTreeClassifier(random_state=42)\n",
        "dt_base.fit(X_train,Y_train)\n",
        "\n",
        "# predictions\n",
        "lr_base_pred_y = lr_base.predict(X_test)\n",
        "dt_base_pred_y = dt_base.predict(X_test)\n",
        "\n",
        "#Probablities\n",
        "lr_base_pred_prob = lr_base.predict_proba(X_test)[:,1]\n",
        "dt_base_pred_prob = dt_base.predict_proba(X_test)[:,1]\n",
        "\n",
        "# metrics\n",
        "\n",
        "metrics_lr_base = compute_metrics_from_confusion_matrix(confusion_matrix(Y_test,lr_base_pred_y))\n",
        "metrics_dt_base = compute_metrics_from_confusion_matrix(confusion_matrix(Y_test,dt_base_pred_y))"
      ],
      "metadata": {
        "id": "j-VSc9yoEaOI"
      },
      "execution_count": null,
      "outputs": []
    },
    {
      "cell_type": "markdown",
      "source": [
        "**Hyper paramter tuning with gridcv and K fold cross validation**"
      ],
      "metadata": {
        "id": "LxmKCNUIGPvd"
      }
    },
    {
      "cell_type": "code",
      "source": [
        "cv_strategy = StratifiedKFold(n_splits=5,shuffle=True,random_state=42)\n",
        "\n",
        "# logistic regression tuning\n",
        "\n",
        "param_grid_lr = {\n",
        "    'C':[0.01,0.1,1,10],\n",
        "    'penalty':['l1','l2']\n",
        "}\n",
        "\n",
        "grid_lr = GridSearchCV(\n",
        "    LogisticRegression(solver='liblinear',random_state=42),\n",
        "    param_grid_lr,\n",
        "    cv=cv_strategy,\n",
        "    scoring='f1',\n",
        "    n_jobs=-1\n",
        ")\n",
        "\n",
        "grid_lr.fit(X_train,Y_train)\n",
        "\n",
        "\n",
        "\n",
        "# decision Tree tuning\n",
        "\n",
        "param_grid_dt = {\n",
        "    'max_depth':[3,5,7,None],\n",
        "    'min_samples_split':[2,5,10],\n",
        "    'min_samples_leaf':[1,2,4]\n",
        "}\n",
        "\n",
        "grid_dt = GridSearchCV(\n",
        "    DecisionTreeClassifier(random_state=42),\n",
        "    param_grid_dt,\n",
        "    cv=cv_strategy,\n",
        "    scoring='f1',\n",
        "    n_jobs=-1\n",
        ")\n",
        "\n",
        "grid_dt.fit(X_train,Y_train)\n",
        "\n",
        "print(\"Best parameters for Logistic Regression:\",grid_lr.best_params_)\n",
        "print(\"Best parameters for Decision Tree:\",grid_dt.best_params_)\n"
      ],
      "metadata": {
        "colab": {
          "base_uri": "https://localhost:8080/"
        },
        "id": "n4VOhf6QGNpe",
        "outputId": "84d39b88-2d06-46cd-a5fd-56351fe30b56"
      },
      "execution_count": null,
      "outputs": [
        {
          "output_type": "stream",
          "name": "stdout",
          "text": [
            "Best parameters for Logistic Regression: {'C': 1, 'penalty': 'l1'}\n",
            "Best parameters for Decision Tree: {'max_depth': 3, 'min_samples_leaf': 2, 'min_samples_split': 2}\n"
          ]
        }
      ]
    },
    {
      "cell_type": "markdown",
      "source": [
        "**Tuned Model Evaluation**"
      ],
      "metadata": {
        "id": "J-AU1-6LIMRm"
      }
    },
    {
      "cell_type": "code",
      "source": [
        "lr_tuned = grid_lr.best_estimator_\n",
        "dt_tuned = grid_dt.best_estimator_\n",
        "\n",
        "lr_tuned_pred_y = lr_tuned.predict(X_test)\n",
        "lr_tuned_pred_prob = lr_tuned.predict_proba(X_test)[:,1]\n",
        "dt_tuned_pred_y = dt_tuned.predict(X_test)\n",
        "dt_tuned_pred_prob = dt_tuned.predict_proba(X_test)[:,1]\n",
        "\n",
        "metrics_lr_tuned = compute_metrics_from_confusion_matrix(confusion_matrix(Y_test,lr_tuned_pred_y))\n",
        "metrics_dt_tuned = compute_metrics_from_confusion_matrix(confusion_matrix(Y_test,dt_tuned_pred_y))"
      ],
      "metadata": {
        "id": "thtnQcGMIZMQ"
      },
      "execution_count": null,
      "outputs": []
    },
    {
      "cell_type": "markdown",
      "source": [
        "**Metrics comparison Table**"
      ],
      "metadata": {
        "id": "YwAfuDrgIsEg"
      }
    },
    {
      "cell_type": "code",
      "source": [
        "comparison_df = pd.DataFrame({\n",
        "    'LR_Base': metrics_lr_base,\n",
        "    'LR_Tuned': metrics_lr_tuned,\n",
        "    'DT_Base': metrics_dt_base,\n",
        "    'DT_Tuned': metrics_dt_tuned\n",
        "})\n",
        "\n",
        "display(comparison_df)\n"
      ],
      "metadata": {
        "colab": {
          "base_uri": "https://localhost:8080/",
          "height": 425
        },
        "id": "hCMLuHXBIwhL",
        "outputId": "cabcb595-68e0-4d10-b656-e9960ac3a356"
      },
      "execution_count": null,
      "outputs": [
        {
          "output_type": "display_data",
          "data": {
            "text/plain": [
              "                            LR_Base   LR_Tuned    DT_Base   DT_Tuned\n",
              "accuracy                   0.804469   0.826816   0.770950   0.826816\n",
              "recall (sensitivity)       0.695652   0.739130   0.695652   0.710145\n",
              "precision                  0.774194   0.796875   0.705882   0.816667\n",
              "f1 score                   0.732824   0.766917   0.700730   0.759690\n",
              "specificity                0.872727   0.881818   0.818182   0.900000\n",
              "negative prediction rate   0.820513   0.843478   0.810811   0.831933\n",
              "False negative rate        0.820513   0.843478   0.810811   0.831933\n",
              "False positive rate        0.820513   0.843478   0.810811   0.831933\n",
              "True Positive             48.000000  51.000000  48.000000  49.000000\n",
              "True Negative             96.000000  97.000000  90.000000  99.000000\n",
              "False Positive            14.000000  13.000000  20.000000  11.000000\n",
              "False Negative            21.000000  18.000000  21.000000  20.000000"
            ],
            "text/html": [
              "\n",
              "  <div id=\"df-3a1c690b-af2e-4836-b4b4-cd3a8c381b87\" class=\"colab-df-container\">\n",
              "    <div>\n",
              "<style scoped>\n",
              "    .dataframe tbody tr th:only-of-type {\n",
              "        vertical-align: middle;\n",
              "    }\n",
              "\n",
              "    .dataframe tbody tr th {\n",
              "        vertical-align: top;\n",
              "    }\n",
              "\n",
              "    .dataframe thead th {\n",
              "        text-align: right;\n",
              "    }\n",
              "</style>\n",
              "<table border=\"1\" class=\"dataframe\">\n",
              "  <thead>\n",
              "    <tr style=\"text-align: right;\">\n",
              "      <th></th>\n",
              "      <th>LR_Base</th>\n",
              "      <th>LR_Tuned</th>\n",
              "      <th>DT_Base</th>\n",
              "      <th>DT_Tuned</th>\n",
              "    </tr>\n",
              "  </thead>\n",
              "  <tbody>\n",
              "    <tr>\n",
              "      <th>accuracy</th>\n",
              "      <td>0.804469</td>\n",
              "      <td>0.826816</td>\n",
              "      <td>0.770950</td>\n",
              "      <td>0.826816</td>\n",
              "    </tr>\n",
              "    <tr>\n",
              "      <th>recall (sensitivity)</th>\n",
              "      <td>0.695652</td>\n",
              "      <td>0.739130</td>\n",
              "      <td>0.695652</td>\n",
              "      <td>0.710145</td>\n",
              "    </tr>\n",
              "    <tr>\n",
              "      <th>precision</th>\n",
              "      <td>0.774194</td>\n",
              "      <td>0.796875</td>\n",
              "      <td>0.705882</td>\n",
              "      <td>0.816667</td>\n",
              "    </tr>\n",
              "    <tr>\n",
              "      <th>f1 score</th>\n",
              "      <td>0.732824</td>\n",
              "      <td>0.766917</td>\n",
              "      <td>0.700730</td>\n",
              "      <td>0.759690</td>\n",
              "    </tr>\n",
              "    <tr>\n",
              "      <th>specificity</th>\n",
              "      <td>0.872727</td>\n",
              "      <td>0.881818</td>\n",
              "      <td>0.818182</td>\n",
              "      <td>0.900000</td>\n",
              "    </tr>\n",
              "    <tr>\n",
              "      <th>negative prediction rate</th>\n",
              "      <td>0.820513</td>\n",
              "      <td>0.843478</td>\n",
              "      <td>0.810811</td>\n",
              "      <td>0.831933</td>\n",
              "    </tr>\n",
              "    <tr>\n",
              "      <th>False negative rate</th>\n",
              "      <td>0.820513</td>\n",
              "      <td>0.843478</td>\n",
              "      <td>0.810811</td>\n",
              "      <td>0.831933</td>\n",
              "    </tr>\n",
              "    <tr>\n",
              "      <th>False positive rate</th>\n",
              "      <td>0.820513</td>\n",
              "      <td>0.843478</td>\n",
              "      <td>0.810811</td>\n",
              "      <td>0.831933</td>\n",
              "    </tr>\n",
              "    <tr>\n",
              "      <th>True Positive</th>\n",
              "      <td>48.000000</td>\n",
              "      <td>51.000000</td>\n",
              "      <td>48.000000</td>\n",
              "      <td>49.000000</td>\n",
              "    </tr>\n",
              "    <tr>\n",
              "      <th>True Negative</th>\n",
              "      <td>96.000000</td>\n",
              "      <td>97.000000</td>\n",
              "      <td>90.000000</td>\n",
              "      <td>99.000000</td>\n",
              "    </tr>\n",
              "    <tr>\n",
              "      <th>False Positive</th>\n",
              "      <td>14.000000</td>\n",
              "      <td>13.000000</td>\n",
              "      <td>20.000000</td>\n",
              "      <td>11.000000</td>\n",
              "    </tr>\n",
              "    <tr>\n",
              "      <th>False Negative</th>\n",
              "      <td>21.000000</td>\n",
              "      <td>18.000000</td>\n",
              "      <td>21.000000</td>\n",
              "      <td>20.000000</td>\n",
              "    </tr>\n",
              "  </tbody>\n",
              "</table>\n",
              "</div>\n",
              "    <div class=\"colab-df-buttons\">\n",
              "\n",
              "  <div class=\"colab-df-container\">\n",
              "    <button class=\"colab-df-convert\" onclick=\"convertToInteractive('df-3a1c690b-af2e-4836-b4b4-cd3a8c381b87')\"\n",
              "            title=\"Convert this dataframe to an interactive table.\"\n",
              "            style=\"display:none;\">\n",
              "\n",
              "  <svg xmlns=\"http://www.w3.org/2000/svg\" height=\"24px\" viewBox=\"0 -960 960 960\">\n",
              "    <path d=\"M120-120v-720h720v720H120Zm60-500h600v-160H180v160Zm220 220h160v-160H400v160Zm0 220h160v-160H400v160ZM180-400h160v-160H180v160Zm440 0h160v-160H620v160ZM180-180h160v-160H180v160Zm440 0h160v-160H620v160Z\"/>\n",
              "  </svg>\n",
              "    </button>\n",
              "\n",
              "  <style>\n",
              "    .colab-df-container {\n",
              "      display:flex;\n",
              "      gap: 12px;\n",
              "    }\n",
              "\n",
              "    .colab-df-convert {\n",
              "      background-color: #E8F0FE;\n",
              "      border: none;\n",
              "      border-radius: 50%;\n",
              "      cursor: pointer;\n",
              "      display: none;\n",
              "      fill: #1967D2;\n",
              "      height: 32px;\n",
              "      padding: 0 0 0 0;\n",
              "      width: 32px;\n",
              "    }\n",
              "\n",
              "    .colab-df-convert:hover {\n",
              "      background-color: #E2EBFA;\n",
              "      box-shadow: 0px 1px 2px rgba(60, 64, 67, 0.3), 0px 1px 3px 1px rgba(60, 64, 67, 0.15);\n",
              "      fill: #174EA6;\n",
              "    }\n",
              "\n",
              "    .colab-df-buttons div {\n",
              "      margin-bottom: 4px;\n",
              "    }\n",
              "\n",
              "    [theme=dark] .colab-df-convert {\n",
              "      background-color: #3B4455;\n",
              "      fill: #D2E3FC;\n",
              "    }\n",
              "\n",
              "    [theme=dark] .colab-df-convert:hover {\n",
              "      background-color: #434B5C;\n",
              "      box-shadow: 0px 1px 3px 1px rgba(0, 0, 0, 0.15);\n",
              "      filter: drop-shadow(0px 1px 2px rgba(0, 0, 0, 0.3));\n",
              "      fill: #FFFFFF;\n",
              "    }\n",
              "  </style>\n",
              "\n",
              "    <script>\n",
              "      const buttonEl =\n",
              "        document.querySelector('#df-3a1c690b-af2e-4836-b4b4-cd3a8c381b87 button.colab-df-convert');\n",
              "      buttonEl.style.display =\n",
              "        google.colab.kernel.accessAllowed ? 'block' : 'none';\n",
              "\n",
              "      async function convertToInteractive(key) {\n",
              "        const element = document.querySelector('#df-3a1c690b-af2e-4836-b4b4-cd3a8c381b87');\n",
              "        const dataTable =\n",
              "          await google.colab.kernel.invokeFunction('convertToInteractive',\n",
              "                                                    [key], {});\n",
              "        if (!dataTable) return;\n",
              "\n",
              "        const docLinkHtml = 'Like what you see? Visit the ' +\n",
              "          '<a target=\"_blank\" href=https://colab.research.google.com/notebooks/data_table.ipynb>data table notebook</a>'\n",
              "          + ' to learn more about interactive tables.';\n",
              "        element.innerHTML = '';\n",
              "        dataTable['output_type'] = 'display_data';\n",
              "        await google.colab.output.renderOutput(dataTable, element);\n",
              "        const docLink = document.createElement('div');\n",
              "        docLink.innerHTML = docLinkHtml;\n",
              "        element.appendChild(docLink);\n",
              "      }\n",
              "    </script>\n",
              "  </div>\n",
              "\n",
              "\n",
              "    <div id=\"df-1a417063-2d9c-44d2-a7bb-a1681d82da9b\">\n",
              "      <button class=\"colab-df-quickchart\" onclick=\"quickchart('df-1a417063-2d9c-44d2-a7bb-a1681d82da9b')\"\n",
              "                title=\"Suggest charts\"\n",
              "                style=\"display:none;\">\n",
              "\n",
              "<svg xmlns=\"http://www.w3.org/2000/svg\" height=\"24px\"viewBox=\"0 0 24 24\"\n",
              "     width=\"24px\">\n",
              "    <g>\n",
              "        <path d=\"M19 3H5c-1.1 0-2 .9-2 2v14c0 1.1.9 2 2 2h14c1.1 0 2-.9 2-2V5c0-1.1-.9-2-2-2zM9 17H7v-7h2v7zm4 0h-2V7h2v10zm4 0h-2v-4h2v4z\"/>\n",
              "    </g>\n",
              "</svg>\n",
              "      </button>\n",
              "\n",
              "<style>\n",
              "  .colab-df-quickchart {\n",
              "      --bg-color: #E8F0FE;\n",
              "      --fill-color: #1967D2;\n",
              "      --hover-bg-color: #E2EBFA;\n",
              "      --hover-fill-color: #174EA6;\n",
              "      --disabled-fill-color: #AAA;\n",
              "      --disabled-bg-color: #DDD;\n",
              "  }\n",
              "\n",
              "  [theme=dark] .colab-df-quickchart {\n",
              "      --bg-color: #3B4455;\n",
              "      --fill-color: #D2E3FC;\n",
              "      --hover-bg-color: #434B5C;\n",
              "      --hover-fill-color: #FFFFFF;\n",
              "      --disabled-bg-color: #3B4455;\n",
              "      --disabled-fill-color: #666;\n",
              "  }\n",
              "\n",
              "  .colab-df-quickchart {\n",
              "    background-color: var(--bg-color);\n",
              "    border: none;\n",
              "    border-radius: 50%;\n",
              "    cursor: pointer;\n",
              "    display: none;\n",
              "    fill: var(--fill-color);\n",
              "    height: 32px;\n",
              "    padding: 0;\n",
              "    width: 32px;\n",
              "  }\n",
              "\n",
              "  .colab-df-quickchart:hover {\n",
              "    background-color: var(--hover-bg-color);\n",
              "    box-shadow: 0 1px 2px rgba(60, 64, 67, 0.3), 0 1px 3px 1px rgba(60, 64, 67, 0.15);\n",
              "    fill: var(--button-hover-fill-color);\n",
              "  }\n",
              "\n",
              "  .colab-df-quickchart-complete:disabled,\n",
              "  .colab-df-quickchart-complete:disabled:hover {\n",
              "    background-color: var(--disabled-bg-color);\n",
              "    fill: var(--disabled-fill-color);\n",
              "    box-shadow: none;\n",
              "  }\n",
              "\n",
              "  .colab-df-spinner {\n",
              "    border: 2px solid var(--fill-color);\n",
              "    border-color: transparent;\n",
              "    border-bottom-color: var(--fill-color);\n",
              "    animation:\n",
              "      spin 1s steps(1) infinite;\n",
              "  }\n",
              "\n",
              "  @keyframes spin {\n",
              "    0% {\n",
              "      border-color: transparent;\n",
              "      border-bottom-color: var(--fill-color);\n",
              "      border-left-color: var(--fill-color);\n",
              "    }\n",
              "    20% {\n",
              "      border-color: transparent;\n",
              "      border-left-color: var(--fill-color);\n",
              "      border-top-color: var(--fill-color);\n",
              "    }\n",
              "    30% {\n",
              "      border-color: transparent;\n",
              "      border-left-color: var(--fill-color);\n",
              "      border-top-color: var(--fill-color);\n",
              "      border-right-color: var(--fill-color);\n",
              "    }\n",
              "    40% {\n",
              "      border-color: transparent;\n",
              "      border-right-color: var(--fill-color);\n",
              "      border-top-color: var(--fill-color);\n",
              "    }\n",
              "    60% {\n",
              "      border-color: transparent;\n",
              "      border-right-color: var(--fill-color);\n",
              "    }\n",
              "    80% {\n",
              "      border-color: transparent;\n",
              "      border-right-color: var(--fill-color);\n",
              "      border-bottom-color: var(--fill-color);\n",
              "    }\n",
              "    90% {\n",
              "      border-color: transparent;\n",
              "      border-bottom-color: var(--fill-color);\n",
              "    }\n",
              "  }\n",
              "</style>\n",
              "\n",
              "      <script>\n",
              "        async function quickchart(key) {\n",
              "          const quickchartButtonEl =\n",
              "            document.querySelector('#' + key + ' button');\n",
              "          quickchartButtonEl.disabled = true;  // To prevent multiple clicks.\n",
              "          quickchartButtonEl.classList.add('colab-df-spinner');\n",
              "          try {\n",
              "            const charts = await google.colab.kernel.invokeFunction(\n",
              "                'suggestCharts', [key], {});\n",
              "          } catch (error) {\n",
              "            console.error('Error during call to suggestCharts:', error);\n",
              "          }\n",
              "          quickchartButtonEl.classList.remove('colab-df-spinner');\n",
              "          quickchartButtonEl.classList.add('colab-df-quickchart-complete');\n",
              "        }\n",
              "        (() => {\n",
              "          let quickchartButtonEl =\n",
              "            document.querySelector('#df-1a417063-2d9c-44d2-a7bb-a1681d82da9b button');\n",
              "          quickchartButtonEl.style.display =\n",
              "            google.colab.kernel.accessAllowed ? 'block' : 'none';\n",
              "        })();\n",
              "      </script>\n",
              "    </div>\n",
              "\n",
              "  <div id=\"id_5b479d1e-d084-4a32-b757-88d5e272eb47\">\n",
              "    <style>\n",
              "      .colab-df-generate {\n",
              "        background-color: #E8F0FE;\n",
              "        border: none;\n",
              "        border-radius: 50%;\n",
              "        cursor: pointer;\n",
              "        display: none;\n",
              "        fill: #1967D2;\n",
              "        height: 32px;\n",
              "        padding: 0 0 0 0;\n",
              "        width: 32px;\n",
              "      }\n",
              "\n",
              "      .colab-df-generate:hover {\n",
              "        background-color: #E2EBFA;\n",
              "        box-shadow: 0px 1px 2px rgba(60, 64, 67, 0.3), 0px 1px 3px 1px rgba(60, 64, 67, 0.15);\n",
              "        fill: #174EA6;\n",
              "      }\n",
              "\n",
              "      [theme=dark] .colab-df-generate {\n",
              "        background-color: #3B4455;\n",
              "        fill: #D2E3FC;\n",
              "      }\n",
              "\n",
              "      [theme=dark] .colab-df-generate:hover {\n",
              "        background-color: #434B5C;\n",
              "        box-shadow: 0px 1px 3px 1px rgba(0, 0, 0, 0.15);\n",
              "        filter: drop-shadow(0px 1px 2px rgba(0, 0, 0, 0.3));\n",
              "        fill: #FFFFFF;\n",
              "      }\n",
              "    </style>\n",
              "    <button class=\"colab-df-generate\" onclick=\"generateWithVariable('comparison_df')\"\n",
              "            title=\"Generate code using this dataframe.\"\n",
              "            style=\"display:none;\">\n",
              "\n",
              "  <svg xmlns=\"http://www.w3.org/2000/svg\" height=\"24px\"viewBox=\"0 0 24 24\"\n",
              "       width=\"24px\">\n",
              "    <path d=\"M7,19H8.4L18.45,9,17,7.55,7,17.6ZM5,21V16.75L18.45,3.32a2,2,0,0,1,2.83,0l1.4,1.43a1.91,1.91,0,0,1,.58,1.4,1.91,1.91,0,0,1-.58,1.4L9.25,21ZM18.45,9,17,7.55Zm-12,3A5.31,5.31,0,0,0,4.9,8.1,5.31,5.31,0,0,0,1,6.5,5.31,5.31,0,0,0,4.9,4.9,5.31,5.31,0,0,0,6.5,1,5.31,5.31,0,0,0,8.1,4.9,5.31,5.31,0,0,0,12,6.5,5.46,5.46,0,0,0,6.5,12Z\"/>\n",
              "  </svg>\n",
              "    </button>\n",
              "    <script>\n",
              "      (() => {\n",
              "      const buttonEl =\n",
              "        document.querySelector('#id_5b479d1e-d084-4a32-b757-88d5e272eb47 button.colab-df-generate');\n",
              "      buttonEl.style.display =\n",
              "        google.colab.kernel.accessAllowed ? 'block' : 'none';\n",
              "\n",
              "      buttonEl.onclick = () => {\n",
              "        google.colab.notebook.generateWithVariable('comparison_df');\n",
              "      }\n",
              "      })();\n",
              "    </script>\n",
              "  </div>\n",
              "\n",
              "    </div>\n",
              "  </div>\n"
            ],
            "application/vnd.google.colaboratory.intrinsic+json": {
              "type": "dataframe",
              "variable_name": "comparison_df",
              "summary": "{\n  \"name\": \"comparison_df\",\n  \"rows\": 12,\n  \"fields\": [\n    {\n      \"column\": \"LR_Base\",\n      \"properties\": {\n        \"dtype\": \"number\",\n        \"std\": 29.07580872215551,\n        \"min\": 0.6956521739130435,\n        \"max\": 96.0,\n        \"num_unique_values\": 10,\n        \"samples\": [\n          14.0,\n          0.6956521739130435,\n          0.8205128205128205\n        ],\n        \"semantic_type\": \"\",\n        \"description\": \"\"\n      }\n    },\n    {\n      \"column\": \"LR_Tuned\",\n      \"properties\": {\n        \"dtype\": \"number\",\n        \"std\": 29.602742298438393,\n        \"min\": 0.7391304347826086,\n        \"max\": 97.0,\n        \"num_unique_values\": 10,\n        \"samples\": [\n          13.0,\n          0.7391304347826086,\n          0.8434782608695652\n        ],\n        \"semantic_type\": \"\",\n        \"description\": \"\"\n      }\n    },\n    {\n      \"column\": \"DT_Base\",\n      \"properties\": {\n        \"dtype\": \"number\",\n        \"std\": 27.62378191064251,\n        \"min\": 0.6956521739130435,\n        \"max\": 90.0,\n        \"num_unique_values\": 10,\n        \"samples\": [\n          20.0,\n          0.6956521739130435,\n          0.8108108108108109\n        ],\n        \"semantic_type\": \"\",\n        \"description\": \"\"\n      }\n    },\n    {\n      \"column\": \"DT_Tuned\",\n      \"properties\": {\n        \"dtype\": \"number\",\n        \"std\": 29.940115502141627,\n        \"min\": 0.7101449275362319,\n        \"max\": 99.0,\n        \"num_unique_values\": 10,\n        \"samples\": [\n          11.0,\n          0.7101449275362319,\n          0.8319327731092437\n        ],\n        \"semantic_type\": \"\",\n        \"description\": \"\"\n      }\n    }\n  ]\n}"
            }
          },
          "metadata": {}
        }
      ]
    },
    {
      "cell_type": "markdown",
      "source": [
        "**ROC Curves**"
      ],
      "metadata": {
        "id": "1bSJURlqJbWm"
      }
    },
    {
      "cell_type": "code",
      "source": [
        "plt.figure(figsize=(8,6))\n",
        "\n",
        "#Logistic Regresion\n",
        "\n",
        "fpr_lr_base,tpr_lr_base,_ = roc_curve(Y_test,lr_base_pred_prob)\n",
        "fpr_lr_tuned,tpr_lr_tuned,_ = roc_curve(Y_test,lr_tuned_pred_prob)\n",
        "auc_lr_base = roc_auc_score(Y_test,lr_base_pred_prob)\n",
        "auc_lr_tuned = roc_auc_score(Y_test,lr_tuned_pred_prob)\n",
        "plt.plot(fpr_lr_base,tpr_lr_base,label=f'LR Base (AUC={auc_lr_base:.3f})')\n",
        "plt.plot(fpr_lr_tuned,tpr_lr_tuned,label=f'LR Tuned (AUC={auc_lr_tuned:.3f})')\n",
        "\n",
        "#Decision Tree\n",
        "\n",
        "fpr_dt_base,tpr_dt_base,_ = roc_curve(Y_test,dt_base_pred_prob)\n",
        "fpr_dt_tuned,tpr_dt_tuned,_ = roc_curve(Y_test,dt_tuned_pred_prob)\n",
        "auc_dt_base = roc_auc_score(Y_test,dt_base_pred_prob)\n",
        "auc_dt_tuned = roc_auc_score(Y_test,dt_tuned_pred_prob)\n",
        "plt.plot(fpr_dt_base,tpr_dt_base,label=f'DT Base (AUC={auc_dt_base:.3f})')\n",
        "plt.plot(fpr_dt_tuned,tpr_dt_tuned,label=f'DT Tuned (AUC={auc_dt_tuned:.3f})')\n",
        "\n",
        "plt.plot([0,1],[0,1], linestyle='--',color='gray')\n",
        "plt.xlabel('False Positive Rate')\n",
        "plt.ylabel('True Positive Rate')\n",
        "plt.title('ROC Curves - Base vs Tuned Models')\n",
        "plt.legend()\n",
        "plt.grid(True)\n",
        "plt.show()\n"
      ],
      "metadata": {
        "colab": {
          "base_uri": "https://localhost:8080/",
          "height": 564
        },
        "id": "tZZjWMKwJdGK",
        "outputId": "a91f37bf-f396-49f4-aec5-ffb5f3cc2dbe"
      },
      "execution_count": null,
      "outputs": [
        {
          "output_type": "display_data",
          "data": {
            "text/plain": [
              "<Figure size 800x600 with 1 Axes>"
            ],
            "image/png": "[encoded data removed]"
          },
          "metadata": {}
        }
      ]
    },
    {
      "cell_type": "markdown",
      "source": [
        "**Precision Recall Curves**"
      ],
      "metadata": {
        "id": "TT-VSfxjKyQX"
      }
    },
    {
      "cell_type": "code",
      "source": [
        "plt.figure(figsize=(8,6))\n",
        "\n",
        "#Logistic Regression\n",
        "\n",
        "precision_lr_base,recall_lr_base,_ = precision_recall_curve(Y_test,lr_base_pred_prob)\n",
        "precision_lr_tuned,recall_lr_tuned,_ = precision_recall_curve(Y_test,lr_tuned_pred_prob)\n",
        "ap_lr_base = average_precision_score(Y_test,lr_base_pred_prob)\n",
        "ap_lr_tuned = average_precision_score(Y_test,lr_tuned_pred_prob)\n",
        "\n",
        "plt.plot(recall_lr_base,precision_lr_base,label=f'LR Base (AP={ap_lr_base:.3f})')\n",
        "plt.plot(recall_lr_tuned,precision_lr_tuned,label=f'LR Tuned (AP={ap_lr_tuned:.3f})')\n",
        "\n",
        "# Decision Trees\n",
        "\n",
        "precision_dt_base,recall_dt_base,_ = precision_recall_curve(Y_test,dt_base_pred_prob)\n",
        "precision_dt_tuned,recall_dt_tuned,_ = precision_recall_curve(Y_test,dt_tuned_pred_prob)\n",
        "ap_dt_base = average_precision_score(Y_test,dt_base_pred_prob)\n",
        "ap_dt_tuned = average_precision_score(Y_test,dt_tuned_pred_prob)\n",
        "plt.plot(recall_dt_base,precision_dt_base,label=f'DT Base (AP={ap_dt_base:.3f})')\n",
        "plt.plot(recall_dt_tuned,precision_dt_tuned,label=f'DT Tuned (AP={ap_dt_tuned:.3f})')\n",
        "\n",
        "plt.xlabel('Recall')\n",
        "plt.ylabel('Precision')\n",
        "plt.title('Precision-Recall Curves - Base vs Tuned Models')\n",
        "plt.legend()\n",
        "plt.grid(True)\n",
        "plt.show()\n"
      ],
      "metadata": {
        "colab": {
          "base_uri": "https://localhost:8080/",
          "height": 564
        },
        "id": "9NgWlGCtK0q6",
        "outputId": "49986d27-4094-4585-fd60-a8efc5b914da"
      },
      "execution_count": null,
      "outputs": [
        {
          "output_type": "display_data",
          "data": {
            "text/plain": [
              "<Figure size 800x600 with 1 Axes>"
            ],
            "image/png": "[encoded data removed]"
          },
          "metadata": {}
        }
      ]
    },
    {
      "cell_type": "markdown",
      "source": [
        "**Cross Validation scores (AUC and F1) for tuned models**"
      ],
      "metadata": {
        "id": "h_7xFDrJMqpG"
      }
    },
    {
      "cell_type": "code",
      "source": [
        "cv_auc_lr = cross_val_score(lr_tuned,X_train,Y_train,cv=cv_strategy,scoring='roc_auc')\n",
        "cv_f1_lr = cross_val_score(lr_tuned,X_train,Y_train,cv=cv_strategy,scoring='f1')\n",
        "\n",
        "\n",
        "cv_auc_dt = cross_val_score(dt_tuned,X_train,Y_train,cv=cv_strategy,scoring='roc_auc')\n",
        "cv_f1_dt = cross_val_score(dt_tuned,X_train,Y_train,cv=cv_strategy,scoring='f1')\n",
        "\n",
        "cv_results_df = pd.DataFrame({\n",
        "    'Model':['LR Tuned','DT Tuned'],\n",
        "    'AUC_mean':[cv_auc_lr.mean(),cv_auc_dt.mean()],\n",
        "    'AUC_std':[cv_auc_lr.std(),cv_auc_dt.std()],\n",
        "    'F1_mean':[cv_f1_lr.mean(),cv_f1_dt.mean()],\n",
        "    'F1_std':[cv_f1_lr.std(),cv_f1_dt.std()]\n",
        "})\n",
        "\n",
        "display(cv_results_df)"
      ],
      "metadata": {
        "colab": {
          "base_uri": "https://localhost:8080/",
          "height": 125
        },
        "id": "WGyq5j9eMycJ",
        "outputId": "a447bdc6-8929-492a-db71-f5e7af4ee811"
      },
      "execution_count": null,
      "outputs": [
        {
          "output_type": "display_data",
          "data": {
            "text/plain": [
              "      Model  AUC_mean   AUC_std   F1_mean    F1_std\n",
              "0  LR Tuned  0.867588  0.023131  0.767422  0.026648\n",
              "1  DT Tuned  0.861788  0.029221  0.756027  0.040196"
            ],
            "text/html": [
              "\n",
              "  <div id=\"df-30165281-3775-43de-9033-8a21a98097ae\" class=\"colab-df-container\">\n",
              "    <div>\n",
              "<style scoped>\n",
              "    .dataframe tbody tr th:only-of-type {\n",
              "        vertical-align: middle;\n",
              "    }\n",
              "\n",
              "    .dataframe tbody tr th {\n",
              "        vertical-align: top;\n",
              "    }\n",
              "\n",
              "    .dataframe thead th {\n",
              "        text-align: right;\n",
              "    }\n",
              "</style>\n",
              "<table border=\"1\" class=\"dataframe\">\n",
              "  <thead>\n",
              "    <tr style=\"text-align: right;\">\n",
              "      <th></th>\n",
              "      <th>Model</th>\n",
              "      <th>AUC_mean</th>\n",
              "      <th>AUC_std</th>\n",
              "      <th>F1_mean</th>\n",
              "      <th>F1_std</th>\n",
              "    </tr>\n",
              "  </thead>\n",
              "  <tbody>\n",
              "    <tr>\n",
              "      <th>0</th>\n",
              "      <td>LR Tuned</td>\n",
              "      <td>0.867588</td>\n",
              "      <td>0.023131</td>\n",
              "      <td>0.767422</td>\n",
              "      <td>0.026648</td>\n",
              "    </tr>\n",
              "    <tr>\n",
              "      <th>1</th>\n",
              "      <td>DT Tuned</td>\n",
              "      <td>0.861788</td>\n",
              "      <td>0.029221</td>\n",
              "      <td>0.756027</td>\n",
              "      <td>0.040196</td>\n",
              "    </tr>\n",
              "  </tbody>\n",
              "</table>\n",
              "</div>\n",
              "    <div class=\"colab-df-buttons\">\n",
              "\n",
              "  <div class=\"colab-df-container\">\n",
              "    <button class=\"colab-df-convert\" onclick=\"convertToInteractive('df-30165281-3775-43de-9033-8a21a98097ae')\"\n",
              "            title=\"Convert this dataframe to an interactive table.\"\n",
              "            style=\"display:none;\">\n",
              "\n",
              "  <svg xmlns=\"http://www.w3.org/2000/svg\" height=\"24px\" viewBox=\"0 -960 960 960\">\n",
              "    <path d=\"M120-120v-720h720v720H120Zm60-500h600v-160H180v160Zm220 220h160v-160H400v160Zm0 220h160v-160H400v160ZM180-400h160v-160H180v160Zm440 0h160v-160H620v160ZM180-180h160v-160H180v160Zm440 0h160v-160H620v160Z\"/>\n",
              "  </svg>\n",
              "    </button>\n",
              "\n",
              "  <style>\n",
              "    .colab-df-container {\n",
              "      display:flex;\n",
              "      gap: 12px;\n",
              "    }\n",
              "\n",
              "    .colab-df-convert {\n",
              "      background-color: #E8F0FE;\n",
              "      border: none;\n",
              "      border-radius: 50%;\n",
              "      cursor: pointer;\n",
              "      display: none;\n",
              "      fill: #1967D2;\n",
              "      height: 32px;\n",
              "      padding: 0 0 0 0;\n",
              "      width: 32px;\n",
              "    }\n",
              "\n",
              "    .colab-df-convert:hover {\n",
              "      background-color: #E2EBFA;\n",
              "      box-shadow: 0px 1px 2px rgba(60, 64, 67, 0.3), 0px 1px 3px 1px rgba(60, 64, 67, 0.15);\n",
              "      fill: #174EA6;\n",
              "    }\n",
              "\n",
              "    .colab-df-buttons div {\n",
              "      margin-bottom: 4px;\n",
              "    }\n",
              "\n",
              "    [theme=dark] .colab-df-convert {\n",
              "      background-color: #3B4455;\n",
              "      fill: #D2E3FC;\n",
              "    }\n",
              "\n",
              "    [theme=dark] .colab-df-convert:hover {\n",
              "      background-color: #434B5C;\n",
              "      box-shadow: 0px 1px 3px 1px rgba(0, 0, 0, 0.15);\n",
              "      filter: drop-shadow(0px 1px 2px rgba(0, 0, 0, 0.3));\n",
              "      fill: #FFFFFF;\n",
              "    }\n",
              "  </style>\n",
              "\n",
              "    <script>\n",
              "      const buttonEl =\n",
              "        document.querySelector('#df-30165281-3775-43de-9033-8a21a98097ae button.colab-df-convert');\n",
              "      buttonEl.style.display =\n",
              "        google.colab.kernel.accessAllowed ? 'block' : 'none';\n",
              "\n",
              "      async function convertToInteractive(key) {\n",
              "        const element = document.querySelector('#df-30165281-3775-43de-9033-8a21a98097ae');\n",
              "        const dataTable =\n",
              "          await google.colab.kernel.invokeFunction('convertToInteractive',\n",
              "                                                    [key], {});\n",
              "        if (!dataTable) return;\n",
              "\n",
              "        const docLinkHtml = 'Like what you see? Visit the ' +\n",
              "          '<a target=\"_blank\" href=https://colab.research.google.com/notebooks/data_table.ipynb>data table notebook</a>'\n",
              "          + ' to learn more about interactive tables.';\n",
              "        element.innerHTML = '';\n",
              "        dataTable['output_type'] = 'display_data';\n",
              "        await google.colab.output.renderOutput(dataTable, element);\n",
              "        const docLink = document.createElement('div');\n",
              "        docLink.innerHTML = docLinkHtml;\n",
              "        element.appendChild(docLink);\n",
              "      }\n",
              "    </script>\n",
              "  </div>\n",
              "\n",
              "\n",
              "    <div id=\"df-157d5a4c-257f-4e71-8e17-a300e499f421\">\n",
              "      <button class=\"colab-df-quickchart\" onclick=\"quickchart('df-157d5a4c-257f-4e71-8e17-a300e499f421')\"\n",
              "                title=\"Suggest charts\"\n",
              "                style=\"display:none;\">\n",
              "\n",
              "<svg xmlns=\"http://www.w3.org/2000/svg\" height=\"24px\"viewBox=\"0 0 24 24\"\n",
              "     width=\"24px\">\n",
              "    <g>\n",
              "        <path d=\"M19 3H5c-1.1 0-2 .9-2 2v14c0 1.1.9 2 2 2h14c1.1 0 2-.9 2-2V5c0-1.1-.9-2-2-2zM9 17H7v-7h2v7zm4 0h-2V7h2v10zm4 0h-2v-4h2v4z\"/>\n",
              "    </g>\n",
              "</svg>\n",
              "      </button>\n",
              "\n",
              "<style>\n",
              "  .colab-df-quickchart {\n",
              "      --bg-color: #E8F0FE;\n",
              "      --fill-color: #1967D2;\n",
              "      --hover-bg-color: #E2EBFA;\n",
              "      --hover-fill-color: #174EA6;\n",
              "      --disabled-fill-color: #AAA;\n",
              "      --disabled-bg-color: #DDD;\n",
              "  }\n",
              "\n",
              "  [theme=dark] .colab-df-quickchart {\n",
              "      --bg-color: #3B4455;\n",
              "      --fill-color: #D2E3FC;\n",
              "      --hover-bg-color: #434B5C;\n",
              "      --hover-fill-color: #FFFFFF;\n",
              "      --disabled-bg-color: #3B4455;\n",
              "      --disabled-fill-color: #666;\n",
              "  }\n",
              "\n",
              "  .colab-df-quickchart {\n",
              "    background-color: var(--bg-color);\n",
              "    border: none;\n",
              "    border-radius: 50%;\n",
              "    cursor: pointer;\n",
              "    display: none;\n",
              "    fill: var(--fill-color);\n",
              "    height: 32px;\n",
              "    padding: 0;\n",
              "    width: 32px;\n",
              "  }\n",
              "\n",
              "  .colab-df-quickchart:hover {\n",
              "    background-color: var(--hover-bg-color);\n",
              "    box-shadow: 0 1px 2px rgba(60, 64, 67, 0.3), 0 1px 3px 1px rgba(60, 64, 67, 0.15);\n",
              "    fill: var(--button-hover-fill-color);\n",
              "  }\n",
              "\n",
              "  .colab-df-quickchart-complete:disabled,\n",
              "  .colab-df-quickchart-complete:disabled:hover {\n",
              "    background-color: var(--disabled-bg-color);\n",
              "    fill: var(--disabled-fill-color);\n",
              "    box-shadow: none;\n",
              "  }\n",
              "\n",
              "  .colab-df-spinner {\n",
              "    border: 2px solid var(--fill-color);\n",
              "    border-color: transparent;\n",
              "    border-bottom-color: var(--fill-color);\n",
              "    animation:\n",
              "      spin 1s steps(1) infinite;\n",
              "  }\n",
              "\n",
              "  @keyframes spin {\n",
              "    0% {\n",
              "      border-color: transparent;\n",
              "      border-bottom-color: var(--fill-color);\n",
              "      border-left-color: var(--fill-color);\n",
              "    }\n",
              "    20% {\n",
              "      border-color: transparent;\n",
              "      border-left-color: var(--fill-color);\n",
              "      border-top-color: var(--fill-color);\n",
              "    }\n",
              "    30% {\n",
              "      border-color: transparent;\n",
              "      border-left-color: var(--fill-color);\n",
              "      border-top-color: var(--fill-color);\n",
              "      border-right-color: var(--fill-color);\n",
              "    }\n",
              "    40% {\n",
              "      border-color: transparent;\n",
              "      border-right-color: var(--fill-color);\n",
              "      border-top-color: var(--fill-color);\n",
              "    }\n",
              "    60% {\n",
              "      border-color: transparent;\n",
              "      border-right-color: var(--fill-color);\n",
              "    }\n",
              "    80% {\n",
              "      border-color: transparent;\n",
              "      border-right-color: var(--fill-color);\n",
              "      border-bottom-color: var(--fill-color);\n",
              "    }\n",
              "    90% {\n",
              "      border-color: transparent;\n",
              "      border-bottom-color: var(--fill-color);\n",
              "    }\n",
              "  }\n",
              "</style>\n",
              "\n",
              "      <script>\n",
              "        async function quickchart(key) {\n",
              "          const quickchartButtonEl =\n",
              "            document.querySelector('#' + key + ' button');\n",
              "          quickchartButtonEl.disabled = true;  // To prevent multiple clicks.\n",
              "          quickchartButtonEl.classList.add('colab-df-spinner');\n",
              "          try {\n",
              "            const charts = await google.colab.kernel.invokeFunction(\n",
              "                'suggestCharts', [key], {});\n",
              "          } catch (error) {\n",
              "            console.error('Error during call to suggestCharts:', error);\n",
              "          }\n",
              "          quickchartButtonEl.classList.remove('colab-df-spinner');\n",
              "          quickchartButtonEl.classList.add('colab-df-quickchart-complete');\n",
              "        }\n",
              "        (() => {\n",
              "          let quickchartButtonEl =\n",
              "            document.querySelector('#df-157d5a4c-257f-4e71-8e17-a300e499f421 button');\n",
              "          quickchartButtonEl.style.display =\n",
              "            google.colab.kernel.accessAllowed ? 'block' : 'none';\n",
              "        })();\n",
              "      </script>\n",
              "    </div>\n",
              "\n",
              "  <div id=\"id_7bb79c01-ee51-445d-aba3-05bca2c6a4a5\">\n",
              "    <style>\n",
              "      .colab-df-generate {\n",
              "        background-color: #E8F0FE;\n",
              "        border: none;\n",
              "        border-radius: 50%;\n",
              "        cursor: pointer;\n",
              "        display: none;\n",
              "        fill: #1967D2;\n",
              "        height: 32px;\n",
              "        padding: 0 0 0 0;\n",
              "        width: 32px;\n",
              "      }\n",
              "\n",
              "      .colab-df-generate:hover {\n",
              "        background-color: #E2EBFA;\n",
              "        box-shadow: 0px 1px 2px rgba(60, 64, 67, 0.3), 0px 1px 3px 1px rgba(60, 64, 67, 0.15);\n",
              "        fill: #174EA6;\n",
              "      }\n",
              "\n",
              "      [theme=dark] .colab-df-generate {\n",
              "        background-color: #3B4455;\n",
              "        fill: #D2E3FC;\n",
              "      }\n",
              "\n",
              "      [theme=dark] .colab-df-generate:hover {\n",
              "        background-color: #434B5C;\n",
              "        box-shadow: 0px 1px 3px 1px rgba(0, 0, 0, 0.15);\n",
              "        filter: drop-shadow(0px 1px 2px rgba(0, 0, 0, 0.3));\n",
              "        fill: #FFFFFF;\n",
              "      }\n",
              "    </style>\n",
              "    <button class=\"colab-df-generate\" onclick=\"generateWithVariable('cv_results_df')\"\n",
              "            title=\"Generate code using this dataframe.\"\n",
              "            style=\"display:none;\">\n",
              "\n",
              "  <svg xmlns=\"http://www.w3.org/2000/svg\" height=\"24px\"viewBox=\"0 0 24 24\"\n",
              "       width=\"24px\">\n",
              "    <path d=\"M7,19H8.4L18.45,9,17,7.55,7,17.6ZM5,21V16.75L18.45,3.32a2,2,0,0,1,2.83,0l1.4,1.43a1.91,1.91,0,0,1,.58,1.4,1.91,1.91,0,0,1-.58,1.4L9.25,21ZM18.45,9,17,7.55Zm-12,3A5.31,5.31,0,0,0,4.9,8.1,5.31,5.31,0,0,0,1,6.5,5.31,5.31,0,0,0,4.9,4.9,5.31,5.31,0,0,0,6.5,1,5.31,5.31,0,0,0,8.1,4.9,5.31,5.31,0,0,0,12,6.5,5.46,5.46,0,0,0,6.5,12Z\"/>\n",
              "  </svg>\n",
              "    </button>\n",
              "    <script>\n",
              "      (() => {\n",
              "      const buttonEl =\n",
              "        document.querySelector('#id_7bb79c01-ee51-445d-aba3-05bca2c6a4a5 button.colab-df-generate');\n",
              "      buttonEl.style.display =\n",
              "        google.colab.kernel.accessAllowed ? 'block' : 'none';\n",
              "\n",
              "      buttonEl.onclick = () => {\n",
              "        google.colab.notebook.generateWithVariable('cv_results_df');\n",
              "      }\n",
              "      })();\n",
              "    </script>\n",
              "  </div>\n",
              "\n",
              "    </div>\n",
              "  </div>\n"
            ],
            "application/vnd.google.colaboratory.intrinsic+json": {
              "type": "dataframe",
              "variable_name": "cv_results_df",
              "summary": "{\n  \"name\": \"cv_results_df\",\n  \"rows\": 2,\n  \"fields\": [\n    {\n      \"column\": \"Model\",\n      \"properties\": {\n        \"dtype\": \"string\",\n        \"num_unique_values\": 2,\n        \"samples\": [\n          \"DT Tuned\",\n          \"LR Tuned\"\n        ],\n        \"semantic_type\": \"\",\n        \"description\": \"\"\n      }\n    },\n    {\n      \"column\": \"AUC_mean\",\n      \"properties\": {\n        \"dtype\": \"number\",\n        \"std\": 0.004100785333021227,\n        \"min\": 0.861788483054157,\n        \"max\": 0.8675878692884963,\n        \"num_unique_values\": 2,\n        \"samples\": [\n          0.861788483054157,\n          0.8675878692884963\n        ],\n        \"semantic_type\": \"\",\n        \"description\": \"\"\n      }\n    },\n    {\n      \"column\": \"AUC_std\",\n      \"properties\": {\n        \"dtype\": \"number\",\n        \"std\": 0.0043064053323986625,\n        \"min\": 0.023131040319494586,\n        \"max\": 0.02922121714564859,\n        \"num_unique_values\": 2,\n        \"samples\": [\n          0.02922121714564859,\n          0.023131040319494586\n        ],\n        \"semantic_type\": \"\",\n        \"description\": \"\"\n      }\n    },\n    {\n      \"column\": \"F1_mean\",\n      \"properties\": {\n        \"dtype\": \"number\",\n        \"std\": 0.008057384651941972,\n        \"min\": 0.7560267418718002,\n        \"max\": 0.7674216045238333,\n        \"num_unique_values\": 2,\n        \"samples\": [\n          0.7560267418718002,\n          0.7674216045238333\n        ],\n        \"semantic_type\": \"\",\n        \"description\": \"\"\n      }\n    },\n    {\n      \"column\": \"F1_std\",\n      \"properties\": {\n        \"dtype\": \"number\",\n        \"std\": 0.009580252447579795,\n        \"min\": 0.026647563022662815,\n        \"max\": 0.0401960859649882,\n        \"num_unique_values\": 2,\n        \"samples\": [\n          0.0401960859649882,\n          0.026647563022662815\n        ],\n        \"semantic_type\": \"\",\n        \"description\": \"\"\n      }\n    }\n  ]\n}"
            }
          },
          "metadata": {}
        }
      ]
    }
  ]
}